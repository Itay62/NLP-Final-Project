{
 "cells": [
  {
   "cell_type": "code",
   "execution_count": 10,
   "id": "a93812b7",
   "metadata": {},
   "outputs": [],
   "source": [
    "import pandas as pd\n",
    "import spotipy\n",
    "from spotipy.oauth2 import SpotifyClientCredentials\n",
    "from bs4 import BeautifulSoup\n",
    "import requests\n",
    "from langdetect import detect"
   ]
  },
  {
   "cell_type": "code",
   "execution_count": 11,
   "id": "2e317822",
   "metadata": {},
   "outputs": [],
   "source": [
    "labelledkaggle = pd.read_csv('./only_english_merged_data.csv')"
   ]
  },
  {
   "cell_type": "code",
   "execution_count": 4,
   "metadata": {},
   "outputs": [],
   "source": [
    "with_similar_tracks = pd.read_csv('./278k_labelled_uri_w_similar.csv')"
   ]
  },
  {
   "cell_type": "markdown",
   "id": "dd139e62",
   "metadata": {},
   "source": [
    "## Genius and Spotify credentials"
   ]
  },
  {
   "cell_type": "code",
   "execution_count": 10,
   "id": "353de02e",
   "metadata": {},
   "outputs": [],
   "source": [
    "genius_key = 'put-your-genius-key'\n",
    "cid = 'put-your-cid'\n",
    "secret = 'put-your-secred'"
   ]
  },
  {
   "cell_type": "code",
   "execution_count": 11,
   "id": "8aaca7c2",
   "metadata": {},
   "outputs": [],
   "source": [
    "client_credentials_manager = SpotifyClientCredentials(client_id=cid, client_secret=secret)\n",
    "sp = spotipy.Spotify(client_credentials_manager = client_credentials_manager)"
   ]
  },
  {
   "cell_type": "code",
   "execution_count": 13,
   "id": "6024aa0e",
   "metadata": {},
   "outputs": [],
   "source": [
    "def get_track_artist_and_song_from_uri(uri):\n",
    "    split_uri = uri.split(':')\n",
    "    if len(split_uri) >= 3 and split_uri[1] == 'track':\n",
    "        track_id = split_uri[2]\n",
    "        track_info = sp.track(track_id)\n",
    "        artist_name = track_info['artists'][0]['name']\n",
    "        track_name = track_info['name']\n",
    "        return artist_name, track_name\n",
    "    else:\n",
    "        return None, None\n",
    "\n",
    "\n"
   ]
  },
  {
   "cell_type": "code",
   "execution_count": 14,
   "id": "ae2cd252",
   "metadata": {},
   "outputs": [
    {
     "name": "stdout",
     "output_type": "stream",
     "text": [
      "180000\n"
     ]
    },
    {
     "name": "stderr",
     "output_type": "stream",
     "text": [
      "<ipython-input-14-39d49b402d5e>:52: SettingWithCopyWarning: \n",
      "A value is trying to be set on a copy of a slice from a DataFrame\n",
      "\n",
      "See the caveats in the documentation: https://pandas.pydata.org/pandas-docs/stable/user_guide/indexing.html#returning-a-view-versus-a-copy\n",
      "  df['artist'][index] = artist_name\n",
      "<ipython-input-14-39d49b402d5e>:53: SettingWithCopyWarning: \n",
      "A value is trying to be set on a copy of a slice from a DataFrame\n",
      "\n",
      "See the caveats in the documentation: https://pandas.pydata.org/pandas-docs/stable/user_guide/indexing.html#returning-a-view-versus-a-copy\n",
      "  df['track'][index] = track_name\n",
      "<ipython-input-14-39d49b402d5e>:54: SettingWithCopyWarning: \n",
      "A value is trying to be set on a copy of a slice from a DataFrame\n",
      "\n",
      "See the caveats in the documentation: https://pandas.pydata.org/pandas-docs/stable/user_guide/indexing.html#returning-a-view-versus-a-copy\n",
      "  df['lyrics'][index] = lyrics\n"
     ]
    },
    {
     "name": "stdout",
     "output_type": "stream",
     "text": [
      "180100\n",
      "180200\n",
      "180300\n",
      "180400\n",
      "180500\n",
      "180600\n",
      "180700\n",
      "180800\n",
      "180900\n",
      "Row 180927: Invalid URI or not a track URI.\n",
      "181000\n",
      "181100\n",
      "181200\n",
      "181300\n",
      "181400\n",
      "181500\n",
      "181600\n",
      "181700\n",
      "181800\n",
      "181900\n",
      "182000\n",
      "182100\n",
      "182200\n",
      "182300\n",
      "182400\n",
      "182500\n",
      "182600\n",
      "182700\n",
      "Row 182774: Invalid URI or not a track URI.\n",
      "182800\n",
      "182900\n",
      "Row 182917: Invalid URI or not a track URI.\n",
      "183000\n",
      "183100\n",
      "183200\n",
      "183300\n",
      "183400\n",
      "183500\n",
      "183600\n",
      "183700\n",
      "183800\n",
      "183900\n",
      "184000\n",
      "184100\n",
      "184200\n",
      "184300\n",
      "184400\n",
      "184500\n",
      "184600\n",
      "184700\n",
      "184800\n",
      "184900\n",
      "185000\n",
      "185100\n",
      "185200\n",
      "185300\n",
      "185400\n",
      "185500\n",
      "Row 185526: Invalid URI or not a track URI.\n",
      "185600\n",
      "185700\n",
      "185800\n",
      "185900\n",
      "186000\n",
      "186100\n",
      "186200\n",
      "186300\n",
      "186400\n",
      "186500\n",
      "186600\n",
      "186700\n",
      "186800\n",
      "186900\n",
      "187000\n",
      "187100\n",
      "187200\n",
      "187300\n",
      "187400\n",
      "187500\n",
      "187600\n",
      "187700\n",
      "187800\n",
      "187900\n"
     ]
    }
   ],
   "source": [
    "def request_song_info(track_name, track_artist, genius_key):\n",
    "    base_url = 'https://api.genius.com'\n",
    "    headers = {'Authorization': f'Bearer {genius_key}'}\n",
    "    search_url = f'{base_url}/search'\n",
    "    data = {'q': f'{track_artist} {track_name}'}\n",
    "    response = requests.get(search_url, headers=headers, params=data)\n",
    "    return response\n",
    "\n",
    "def get_song_info_from_response(response, artist):\n",
    "    json = response.json()\n",
    "    remote_song_info = None\n",
    "    for hit in json['response']['hits']:\n",
    "        if artist.lower() in hit['result']['artist_names'].lower():\n",
    "            remote_song_info = hit\n",
    "            break\n",
    "    return remote_song_info\n",
    "\n",
    "def get_url(song_info):\n",
    "    song_url = song_info['result']['url']\n",
    "    return song_url\n",
    "\n",
    "def scrape_lyrics(song_lyrics_url):\n",
    "    page = requests.get(song_lyrics_url)\n",
    "    html = BeautifulSoup(page.content, 'html.parser')\n",
    "    lyrics1 = html.find(\"div\", class_=\"Lyrics__Container-sc-1ynbvzw-5 Dzxov\")\n",
    "    lyrics2 = html.find(\"div\", class_=\"Lyrics__Container-sc-1ynbvzw-2 jgQsqn\")\n",
    "    if lyrics1:\n",
    "        lyrics = lyrics1.get_text()\n",
    "    elif lyrics2:\n",
    "        lyrics = lyrics2.get_text()\n",
    "    elif lyrics1 == lyrics2 == None:\n",
    "        lyrics = None\n",
    "    return lyrics\n",
    "\n",
    "\n",
    "def get_all_tracks_artist_song_and_lyrics_from_uri(df):\n",
    "    artists_song_lyrics = []\n",
    "    for index, row in df[0:278000].iterrows():\n",
    "        if index%100 == 0:\n",
    "            df.to_csv('./only_english_merged_data.csv')\n",
    "        uri = row['uri']\n",
    "        artist_name, track_name = get_track_artist_and_song_from_uri(uri)\n",
    "        if artist_name and track_name:\n",
    "            lyrics = None\n",
    "            response = request_song_info(artist_name, track_name, genius_key)\n",
    "            song_info = get_song_info_from_response(response, artist_name)\n",
    "            if (song_info):\n",
    "                song_lyrics_url = get_url(song_info)\n",
    "                lyrics = scrape_lyrics(song_lyrics_url) \n",
    "                df['artist'][index] = artist_name\n",
    "                df['track'][index] = track_name\n",
    "                df['lyrics'][index] = lyrics\n",
    "                artists_song_lyrics.append((artist_name, track_name, lyrics))\n",
    "        else:\n",
    "            print(f\"Row {index + 1}: Invalid URI or not a track URI.\")\n",
    "    return artists_song_lyrics, df\n",
    "\n",
    "artists_song_lyrics, new_kaggle = get_all_tracks_artist_song_and_lyrics_from_uri(labelledkaggle)"
   ]
  },
  {
   "cell_type": "code",
   "execution_count": 6,
   "id": "e4ae3c3c",
   "metadata": {},
   "outputs": [],
   "source": [
    "labelledkaggle = labelledkaggle.loc[:, ~labelledkaggle.columns.str.contains('^Unnamed')]"
   ]
  },
  {
   "cell_type": "code",
   "execution_count": 7,
   "id": "7bb7abe8",
   "metadata": {},
   "outputs": [],
   "source": [
    "\n",
    "# Function to check if a given text is in English\n",
    "def remove_non_english_lyrics(text):\n",
    "    if isinstance(text, str):  # Check if text is a string\n",
    "        try:\n",
    "            lang = detect(text)\n",
    "            if lang == 'en':\n",
    "                return text\n",
    "            else:\n",
    "                return ''\n",
    "        except:\n",
    "            pass\n",
    "    return text\n",
    "\n",
    "\n",
    "labelledkaggle['lyrics'] = labelledkaggle['lyrics'].apply(remove_non_english_lyrics)\n"
   ]
  }
 ],
 "metadata": {
  "kernelspec": {
   "display_name": "Python 3 (ipykernel)",
   "language": "python",
   "name": "python3"
  },
  "language_info": {
   "codemirror_mode": {
    "name": "ipython",
    "version": 3
   },
   "file_extension": ".py",
   "mimetype": "text/x-python",
   "name": "python",
   "nbconvert_exporter": "python",
   "pygments_lexer": "ipython3",
   "version": "3.8.8"
  }
 },
 "nbformat": 4,
 "nbformat_minor": 5
}
